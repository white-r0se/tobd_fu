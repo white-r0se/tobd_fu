{
  "cells": [
    {
      "cell_type": "code",
      "execution_count": 1,
      "metadata": {},
      "outputs": [],
      "source": [
        "import numpy as np\n",
        "import pandas as pd"
      ]
    },
    {
      "cell_type": "markdown",
      "metadata": {
        "id": "SRCWJw7dLn0W"
      },
      "source": [
        "## Задачи для старта"
      ]
    },
    {
      "cell_type": "markdown",
      "metadata": {
        "id": "bCETxJvEL4Ta"
      },
      "source": [
        "1. Создайте из списка в 10 элементов от 1 до 10 объект Series, выведите 5 элемент, выведите второй и третий элементы.\n",
        "\n",
        "2. Создайте Series из 10 случайных чисел int и задайте индексы из любых букв алфавита (a, b, c и т.д.)\n",
        "\n",
        "3. Создайте Series из словаря, который описывает 5 пар значений номер группы и количество студентов в группе. Выведите срез по первым трем группам.\n",
        "\n",
        "4. Создайте DataFrame из двух Series, которые описывают соответственно первый - 5 групп, количество студентов в группе и второй - те же 5 групп и количество отличников в них. \n",
        "\n",
        "\n",
        "\n",
        "6. Создайте DataFrame из двумерного массива 3 на 2 случайных чисел int, индексов a, b, c и колонок one two.\n",
        "\n",
        "7. В DataFrame из задания 4 добавьте стетий столбец Proportin и внесите в нее отношение отличников к общему числу студентов в группе.\n",
        "\n",
        "8. Используя DataFrame из задания 7 выведите срез первых двух столбцов и первых трех групп с помощью неявной индексации.\n",
        "\n",
        "9. Используя DataFrame из задания 7 выведите срез первых двух столбцов и первых трех строк с помощью явной индексации.\n",
        "\n",
        "10. Используя DataFrame из задания 7 выведите все группы, в которых количество студентов больше 25, долны быть выведены также данные по  столбцам Excellent student и Proportin."
      ]
    },
    {
      "cell_type": "markdown",
      "metadata": {
        "id": "oKt4T8sgFco6"
      },
      "source": [
        "# Файлы"
      ]
    },
    {
      "cell_type": "code",
      "execution_count": 36,
      "metadata": {
        "colab": {
          "base_uri": "https://localhost:8080/",
          "height": 108
        },
        "id": "i5YOc1GYE8VG",
        "outputId": "e2dd929c-dda2-45ad-b6ac-d58efbc08878"
      },
      "outputs": [
        {
          "ename": "ModuleNotFoundError",
          "evalue": "No module named 'google'",
          "output_type": "error",
          "traceback": [
            "\u001b[1;31m---------------------------------------------------------------------------\u001b[0m",
            "\u001b[1;31mModuleNotFoundError\u001b[0m                       Traceback (most recent call last)",
            "\u001b[1;32m~\\AppData\\Local\\Temp/ipykernel_10884/2535520808.py\u001b[0m in \u001b[0;36m<module>\u001b[1;34m\u001b[0m\n\u001b[1;32m----> 1\u001b[1;33m \u001b[1;32mfrom\u001b[0m \u001b[0mgoogle\u001b[0m\u001b[1;33m.\u001b[0m\u001b[0mcolab\u001b[0m \u001b[1;32mimport\u001b[0m \u001b[0mfiles\u001b[0m\u001b[1;33m\u001b[0m\u001b[1;33m\u001b[0m\u001b[0m\n\u001b[0m\u001b[0;32m      2\u001b[0m \u001b[0muploaded\u001b[0m \u001b[1;33m=\u001b[0m \u001b[0mfiles\u001b[0m\u001b[1;33m.\u001b[0m\u001b[0mupload\u001b[0m\u001b[1;33m(\u001b[0m\u001b[1;33m)\u001b[0m\u001b[1;33m\u001b[0m\u001b[1;33m\u001b[0m\u001b[0m\n",
            "\u001b[1;31mModuleNotFoundError\u001b[0m: No module named 'google'"
          ]
        }
      ],
      "source": [
        "from google.colab import files\n",
        "uploaded = files.upload()"
      ]
    },
    {
      "cell_type": "markdown",
      "metadata": {
        "id": "-vD_em4-FW7G"
      },
      "source": [
        "# Задачи для старта Решение"
      ]
    },
    {
      "cell_type": "markdown",
      "metadata": {
        "id": "een-ytr7FN7Q"
      },
      "source": [
        "1. Создайте из списка в 10 элементов от 1 до 10 объект Series, выведите 5 элемент, выведите второй и третий элементы."
      ]
    },
    {
      "cell_type": "code",
      "execution_count": 3,
      "metadata": {
        "colab": {
          "base_uri": "https://localhost:8080/"
        },
        "id": "XusHW85ZEyR1",
        "outputId": "b583099e-6e7d-4a02-8e1b-179d16de9a8e"
      },
      "outputs": [
        {
          "data": {
            "text/plain": [
              "(5, 2, 3)"
            ]
          },
          "execution_count": 3,
          "metadata": {},
          "output_type": "execute_result"
        }
      ],
      "source": [
        "ser1 = pd.Series(list(range(1, 11)))\n",
        "ser1[4], ser1[1], ser1[2]"
      ]
    },
    {
      "cell_type": "markdown",
      "metadata": {
        "id": "-v_VtJwYGLbz"
      },
      "source": [
        "2. Создайте Series из 10 случайных чисел int и задайте индексы из любых букв алфавита (a, b, c и т.д.)"
      ]
    },
    {
      "cell_type": "code",
      "execution_count": 4,
      "metadata": {
        "colab": {
          "base_uri": "https://localhost:8080/"
        },
        "id": "FsNTcz39GMKI",
        "outputId": "b628e80d-fbe8-49ff-ff7f-b63093240e8b"
      },
      "outputs": [
        {
          "data": {
            "text/plain": [
              "a    43\n",
              "b    22\n",
              "c    76\n",
              "d     7\n",
              "e    61\n",
              "f    53\n",
              "g    64\n",
              "h    10\n",
              "i    98\n",
              "j    42\n",
              "dtype: int32"
            ]
          },
          "execution_count": 4,
          "metadata": {},
          "output_type": "execute_result"
        }
      ],
      "source": [
        "ser2 = pd.Series(np.random.randint(1, 100, size=10), index=[chr(ord('a') + i) for i in range(10)])\n",
        "ser2"
      ]
    },
    {
      "cell_type": "markdown",
      "metadata": {
        "id": "uWKlxfAIHP4S"
      },
      "source": [
        "3. Создайте Series из словаря, который описывает 5 пар значений номер группы и количество студентов в группе. Выведите срез по первым трем группам.\n"
      ]
    },
    {
      "cell_type": "code",
      "execution_count": 5,
      "metadata": {
        "colab": {
          "base_uri": "https://localhost:8080/"
        },
        "id": "MHZ9gaYsHQ2O",
        "outputId": "a0054a92-ddf9-4b3f-b1a8-04dfe9a20700"
      },
      "outputs": [
        {
          "data": {
            "text/plain": [
              "1    25\n",
              "2    26\n",
              "3    23\n",
              "dtype: int64"
            ]
          },
          "execution_count": 5,
          "metadata": {},
          "output_type": "execute_result"
        }
      ],
      "source": [
        "d = {1:25, 2:26, 3:23, 4:27, 5:21}\n",
        "sr3 = pd.Series(d)\n",
        "sr3[:3]"
      ]
    },
    {
      "cell_type": "markdown",
      "metadata": {
        "id": "LrsfbQzCIA9f"
      },
      "source": [
        "4. Создайте DataFrame из двух Series, которые описывают соответственно первый - 5 групп, количество студентов в группе и второй - те же 5 групп и количество отличников в них. \n"
      ]
    },
    {
      "cell_type": "code",
      "execution_count": 6,
      "metadata": {
        "colab": {
          "base_uri": "https://localhost:8080/",
          "height": 206
        },
        "id": "YD9RnyUGIDqj",
        "outputId": "be41ded1-faa0-462c-81eb-e428715033ca"
      },
      "outputs": [
        {
          "data": {
            "text/html": [
              "<div>\n",
              "<style scoped>\n",
              "    .dataframe tbody tr th:only-of-type {\n",
              "        vertical-align: middle;\n",
              "    }\n",
              "\n",
              "    .dataframe tbody tr th {\n",
              "        vertical-align: top;\n",
              "    }\n",
              "\n",
              "    .dataframe thead th {\n",
              "        text-align: right;\n",
              "    }\n",
              "</style>\n",
              "<table border=\"1\" class=\"dataframe\">\n",
              "  <thead>\n",
              "    <tr style=\"text-align: right;\">\n",
              "      <th></th>\n",
              "      <th>Total students</th>\n",
              "      <th>Excellent students</th>\n",
              "    </tr>\n",
              "  </thead>\n",
              "  <tbody>\n",
              "    <tr>\n",
              "      <th>1</th>\n",
              "      <td>25</td>\n",
              "      <td>3</td>\n",
              "    </tr>\n",
              "    <tr>\n",
              "      <th>2</th>\n",
              "      <td>26</td>\n",
              "      <td>4</td>\n",
              "    </tr>\n",
              "    <tr>\n",
              "      <th>3</th>\n",
              "      <td>23</td>\n",
              "      <td>5</td>\n",
              "    </tr>\n",
              "    <tr>\n",
              "      <th>4</th>\n",
              "      <td>27</td>\n",
              "      <td>2</td>\n",
              "    </tr>\n",
              "    <tr>\n",
              "      <th>5</th>\n",
              "      <td>21</td>\n",
              "      <td>6</td>\n",
              "    </tr>\n",
              "  </tbody>\n",
              "</table>\n",
              "</div>"
            ],
            "text/plain": [
              "   Total students  Excellent students\n",
              "1              25                   3\n",
              "2              26                   4\n",
              "3              23                   5\n",
              "4              27                   2\n",
              "5              21                   6"
            ]
          },
          "execution_count": 6,
          "metadata": {},
          "output_type": "execute_result"
        }
      ],
      "source": [
        "d1 = {1:25, 2:26, 3:23, 4:27, 5:21}\n",
        "d2 = {1:3, 2:4, 3:5, 4:2, 5:6}\n",
        "df1 = pd.DataFrame({'Total students':d1, 'Excellent students':d2})\n",
        "df1"
      ]
    },
    {
      "cell_type": "markdown",
      "metadata": {
        "id": "IrdCJMAdKCKr"
      },
      "source": [
        "6. Создайте DataFrame из двумерного массива 3 на 2 случайных чисел int, индексов a, b, c и колонок one two."
      ]
    },
    {
      "cell_type": "code",
      "execution_count": 7,
      "metadata": {
        "colab": {
          "base_uri": "https://localhost:8080/",
          "height": 143
        },
        "id": "PAzYZaivKIdb",
        "outputId": "c6562c9a-4380-4f6f-cba8-428dc44d9e25"
      },
      "outputs": [
        {
          "data": {
            "text/html": [
              "<div>\n",
              "<style scoped>\n",
              "    .dataframe tbody tr th:only-of-type {\n",
              "        vertical-align: middle;\n",
              "    }\n",
              "\n",
              "    .dataframe tbody tr th {\n",
              "        vertical-align: top;\n",
              "    }\n",
              "\n",
              "    .dataframe thead th {\n",
              "        text-align: right;\n",
              "    }\n",
              "</style>\n",
              "<table border=\"1\" class=\"dataframe\">\n",
              "  <thead>\n",
              "    <tr style=\"text-align: right;\">\n",
              "      <th></th>\n",
              "      <th>one</th>\n",
              "      <th>two</th>\n",
              "    </tr>\n",
              "  </thead>\n",
              "  <tbody>\n",
              "    <tr>\n",
              "      <th>a</th>\n",
              "      <td>59</td>\n",
              "      <td>84</td>\n",
              "    </tr>\n",
              "    <tr>\n",
              "      <th>b</th>\n",
              "      <td>4</td>\n",
              "      <td>62</td>\n",
              "    </tr>\n",
              "    <tr>\n",
              "      <th>c</th>\n",
              "      <td>95</td>\n",
              "      <td>21</td>\n",
              "    </tr>\n",
              "  </tbody>\n",
              "</table>\n",
              "</div>"
            ],
            "text/plain": [
              "   one  two\n",
              "a   59   84\n",
              "b    4   62\n",
              "c   95   21"
            ]
          },
          "execution_count": 7,
          "metadata": {},
          "output_type": "execute_result"
        }
      ],
      "source": [
        "df2 = pd.DataFrame(np.random.randint(1, 100, size=(3, 2)), index=list('abc'), columns=['one', 'two'])\n",
        "df2"
      ]
    },
    {
      "cell_type": "markdown",
      "metadata": {
        "id": "uYlGT2iELHPU"
      },
      "source": [
        "7. В DataFrame из задания 4 добавьте стетий столбец Proportin и внесите в нее отношение отличников к общему числу студентов в группе.\n"
      ]
    },
    {
      "cell_type": "code",
      "execution_count": 8,
      "metadata": {
        "id": "KmiGSPuwLKxK"
      },
      "outputs": [
        {
          "data": {
            "text/html": [
              "<div>\n",
              "<style scoped>\n",
              "    .dataframe tbody tr th:only-of-type {\n",
              "        vertical-align: middle;\n",
              "    }\n",
              "\n",
              "    .dataframe tbody tr th {\n",
              "        vertical-align: top;\n",
              "    }\n",
              "\n",
              "    .dataframe thead th {\n",
              "        text-align: right;\n",
              "    }\n",
              "</style>\n",
              "<table border=\"1\" class=\"dataframe\">\n",
              "  <thead>\n",
              "    <tr style=\"text-align: right;\">\n",
              "      <th></th>\n",
              "      <th>Total students</th>\n",
              "      <th>Excellent students</th>\n",
              "      <th>Proportion</th>\n",
              "    </tr>\n",
              "  </thead>\n",
              "  <tbody>\n",
              "    <tr>\n",
              "      <th>1</th>\n",
              "      <td>25</td>\n",
              "      <td>3</td>\n",
              "      <td>0.120000</td>\n",
              "    </tr>\n",
              "    <tr>\n",
              "      <th>2</th>\n",
              "      <td>26</td>\n",
              "      <td>4</td>\n",
              "      <td>0.153846</td>\n",
              "    </tr>\n",
              "    <tr>\n",
              "      <th>3</th>\n",
              "      <td>23</td>\n",
              "      <td>5</td>\n",
              "      <td>0.217391</td>\n",
              "    </tr>\n",
              "    <tr>\n",
              "      <th>4</th>\n",
              "      <td>27</td>\n",
              "      <td>2</td>\n",
              "      <td>0.074074</td>\n",
              "    </tr>\n",
              "    <tr>\n",
              "      <th>5</th>\n",
              "      <td>21</td>\n",
              "      <td>6</td>\n",
              "      <td>0.285714</td>\n",
              "    </tr>\n",
              "  </tbody>\n",
              "</table>\n",
              "</div>"
            ],
            "text/plain": [
              "   Total students  Excellent students  Proportion\n",
              "1              25                   3    0.120000\n",
              "2              26                   4    0.153846\n",
              "3              23                   5    0.217391\n",
              "4              27                   2    0.074074\n",
              "5              21                   6    0.285714"
            ]
          },
          "execution_count": 8,
          "metadata": {},
          "output_type": "execute_result"
        }
      ],
      "source": [
        "df1['Proportion'] = df1['Excellent students'] / df1['Total students']\n",
        "df1"
      ]
    },
    {
      "cell_type": "markdown",
      "metadata": {},
      "source": [
        "8. Используя DataFrame из задания 7 выведите срез первых двух столбцов и первых трех групп с помощью неявной индексации.\n"
      ]
    },
    {
      "cell_type": "code",
      "execution_count": 33,
      "metadata": {},
      "outputs": [
        {
          "data": {
            "text/html": [
              "<div>\n",
              "<style scoped>\n",
              "    .dataframe tbody tr th:only-of-type {\n",
              "        vertical-align: middle;\n",
              "    }\n",
              "\n",
              "    .dataframe tbody tr th {\n",
              "        vertical-align: top;\n",
              "    }\n",
              "\n",
              "    .dataframe thead th {\n",
              "        text-align: right;\n",
              "    }\n",
              "</style>\n",
              "<table border=\"1\" class=\"dataframe\">\n",
              "  <thead>\n",
              "    <tr style=\"text-align: right;\">\n",
              "      <th></th>\n",
              "      <th>Total students</th>\n",
              "      <th>Excellent students</th>\n",
              "    </tr>\n",
              "  </thead>\n",
              "  <tbody>\n",
              "    <tr>\n",
              "      <th>1</th>\n",
              "      <td>25</td>\n",
              "      <td>3</td>\n",
              "    </tr>\n",
              "    <tr>\n",
              "      <th>2</th>\n",
              "      <td>26</td>\n",
              "      <td>4</td>\n",
              "    </tr>\n",
              "    <tr>\n",
              "      <th>3</th>\n",
              "      <td>23</td>\n",
              "      <td>5</td>\n",
              "    </tr>\n",
              "  </tbody>\n",
              "</table>\n",
              "</div>"
            ],
            "text/plain": [
              "   Total students  Excellent students\n",
              "1              25                   3\n",
              "2              26                   4\n",
              "3              23                   5"
            ]
          },
          "execution_count": 33,
          "metadata": {},
          "output_type": "execute_result"
        }
      ],
      "source": [
        "df1.iloc[:3, :2]"
      ]
    },
    {
      "cell_type": "markdown",
      "metadata": {},
      "source": [
        "9. Используя DataFrame из задания 7 выведите срез первых двух столбцов и первых трех строк с помощью явной индексации.\n"
      ]
    },
    {
      "cell_type": "code",
      "execution_count": 29,
      "metadata": {},
      "outputs": [
        {
          "data": {
            "text/html": [
              "<div>\n",
              "<style scoped>\n",
              "    .dataframe tbody tr th:only-of-type {\n",
              "        vertical-align: middle;\n",
              "    }\n",
              "\n",
              "    .dataframe tbody tr th {\n",
              "        vertical-align: top;\n",
              "    }\n",
              "\n",
              "    .dataframe thead th {\n",
              "        text-align: right;\n",
              "    }\n",
              "</style>\n",
              "<table border=\"1\" class=\"dataframe\">\n",
              "  <thead>\n",
              "    <tr style=\"text-align: right;\">\n",
              "      <th></th>\n",
              "      <th>Total students</th>\n",
              "      <th>Excellent students</th>\n",
              "    </tr>\n",
              "  </thead>\n",
              "  <tbody>\n",
              "    <tr>\n",
              "      <th>1</th>\n",
              "      <td>25</td>\n",
              "      <td>3</td>\n",
              "    </tr>\n",
              "    <tr>\n",
              "      <th>2</th>\n",
              "      <td>26</td>\n",
              "      <td>4</td>\n",
              "    </tr>\n",
              "    <tr>\n",
              "      <th>3</th>\n",
              "      <td>23</td>\n",
              "      <td>5</td>\n",
              "    </tr>\n",
              "  </tbody>\n",
              "</table>\n",
              "</div>"
            ],
            "text/plain": [
              "   Total students  Excellent students\n",
              "1              25                   3\n",
              "2              26                   4\n",
              "3              23                   5"
            ]
          },
          "execution_count": 29,
          "metadata": {},
          "output_type": "execute_result"
        }
      ],
      "source": [
        "# first 3 rows and 2 columns\n",
        "df1.loc[:3, :'Excellent students']"
      ]
    },
    {
      "cell_type": "markdown",
      "metadata": {},
      "source": [
        "10. Используя DataFrame из задания 7 выведите все группы, в которых количество студентов больше 25, долны быть выведены также данные по  столбцам Excellent student и Proportin."
      ]
    },
    {
      "cell_type": "code",
      "execution_count": 35,
      "metadata": {},
      "outputs": [
        {
          "data": {
            "text/html": [
              "<div>\n",
              "<style scoped>\n",
              "    .dataframe tbody tr th:only-of-type {\n",
              "        vertical-align: middle;\n",
              "    }\n",
              "\n",
              "    .dataframe tbody tr th {\n",
              "        vertical-align: top;\n",
              "    }\n",
              "\n",
              "    .dataframe thead th {\n",
              "        text-align: right;\n",
              "    }\n",
              "</style>\n",
              "<table border=\"1\" class=\"dataframe\">\n",
              "  <thead>\n",
              "    <tr style=\"text-align: right;\">\n",
              "      <th></th>\n",
              "      <th>Total students</th>\n",
              "      <th>Excellent students</th>\n",
              "      <th>Proportion</th>\n",
              "    </tr>\n",
              "  </thead>\n",
              "  <tbody>\n",
              "    <tr>\n",
              "      <th>2</th>\n",
              "      <td>26</td>\n",
              "      <td>4</td>\n",
              "      <td>0.153846</td>\n",
              "    </tr>\n",
              "    <tr>\n",
              "      <th>4</th>\n",
              "      <td>27</td>\n",
              "      <td>2</td>\n",
              "      <td>0.074074</td>\n",
              "    </tr>\n",
              "  </tbody>\n",
              "</table>\n",
              "</div>"
            ],
            "text/plain": [
              "   Total students  Excellent students  Proportion\n",
              "2              26                   4    0.153846\n",
              "4              27                   2    0.074074"
            ]
          },
          "execution_count": 35,
          "metadata": {},
          "output_type": "execute_result"
        }
      ],
      "source": [
        "df1[df1['Total students'] > 25]"
      ]
    },
    {
      "cell_type": "markdown",
      "metadata": {
        "id": "5Wcd4JI5IPmP"
      },
      "source": [
        "# Задачи для совместного разбора"
      ]
    },
    {
      "cell_type": "markdown",
      "metadata": {
        "id": "9EndPJNeIPmQ"
      },
      "source": [
        "1. Загрузите данные из файла `sp500hst.txt` и обозначьте столбцы в соответствии с содержимым: `\"date\", \"ticker\", \"open\", \"high\", \"low\", \"close\", \"volume\"`."
      ]
    },
    {
      "cell_type": "markdown",
      "metadata": {
        "id": "YaEmfAAxIPmR"
      },
      "source": [
        "2. Рассчитайте среднее значение показателей для каждого из столбцов c номерами 3-6."
      ]
    },
    {
      "cell_type": "markdown",
      "metadata": {
        "id": "n23V0oPZIPmR"
      },
      "source": [
        "3. Добавьте столбец, содержащий только число месяца, к которому относится дата."
      ]
    },
    {
      "cell_type": "markdown",
      "metadata": {
        "id": "VPBgr4UqIPmS"
      },
      "source": [
        "4. Рассчитайте суммарный объем торгов для для одинаковых значений тикеров."
      ]
    },
    {
      "cell_type": "markdown",
      "metadata": {
        "id": "JYQpxrdcIPmT"
      },
      "source": [
        "5. Загрузите данные из файла sp500hst.txt и обозначьте столбцы в соответствии с содержимым: \"date\", \"ticker\", \"open\", \"high\", \"low\", \"close\", \"volume\". Добавьте столбец с расшифровкой названия тикера, используя данные из файла `sp_data2.csv` . В случае нехватки данных об именах тикеров корректно обработать их."
      ]
    },
    {
      "cell_type": "markdown",
      "metadata": {
        "id": "FYSwBeK9D5Rj"
      },
      "source": [
        "[sp_data2.csv](https://drive.google.com/file/d/1EuN7NVFqZkpFSoqtjuHZ9VI1TeKwAp3U/view?usp=sharing)\n",
        "\n",
        "[sp500hst.txt](https://drive.google.com/file/d/1H__er8pUdPW4EO2_cl4P8TfhtVotNAY6/view?usp=sharing)"
      ]
    },
    {
      "cell_type": "markdown",
      "metadata": {},
      "source": [
        "# Задачи для совместного разбора Решение"
      ]
    },
    {
      "cell_type": "markdown",
      "metadata": {},
      "source": [
        "1. Загрузите данные из файла `sp500hst.txt` и обозначьте столбцы в соответствии с содержимым: `\"date\", \"ticker\", \"open\", \"high\", \"low\", \"close\", \"volume\"`."
      ]
    },
    {
      "cell_type": "code",
      "execution_count": 11,
      "metadata": {},
      "outputs": [
        {
          "data": {
            "text/html": [
              "<div>\n",
              "<style scoped>\n",
              "    .dataframe tbody tr th:only-of-type {\n",
              "        vertical-align: middle;\n",
              "    }\n",
              "\n",
              "    .dataframe tbody tr th {\n",
              "        vertical-align: top;\n",
              "    }\n",
              "\n",
              "    .dataframe thead th {\n",
              "        text-align: right;\n",
              "    }\n",
              "</style>\n",
              "<table border=\"1\" class=\"dataframe\">\n",
              "  <thead>\n",
              "    <tr style=\"text-align: right;\">\n",
              "      <th></th>\n",
              "      <th>date</th>\n",
              "      <th>ticker</th>\n",
              "      <th>open</th>\n",
              "      <th>high</th>\n",
              "      <th>low</th>\n",
              "      <th>close</th>\n",
              "      <th>volume</th>\n",
              "    </tr>\n",
              "  </thead>\n",
              "  <tbody>\n",
              "    <tr>\n",
              "      <th>0</th>\n",
              "      <td>20090821</td>\n",
              "      <td>A</td>\n",
              "      <td>25.60</td>\n",
              "      <td>25.6100</td>\n",
              "      <td>25.220</td>\n",
              "      <td>25.55</td>\n",
              "      <td>34758</td>\n",
              "    </tr>\n",
              "    <tr>\n",
              "      <th>1</th>\n",
              "      <td>20090824</td>\n",
              "      <td>A</td>\n",
              "      <td>25.64</td>\n",
              "      <td>25.7400</td>\n",
              "      <td>25.330</td>\n",
              "      <td>25.50</td>\n",
              "      <td>22247</td>\n",
              "    </tr>\n",
              "    <tr>\n",
              "      <th>2</th>\n",
              "      <td>20090825</td>\n",
              "      <td>A</td>\n",
              "      <td>25.50</td>\n",
              "      <td>25.7000</td>\n",
              "      <td>25.225</td>\n",
              "      <td>25.34</td>\n",
              "      <td>30891</td>\n",
              "    </tr>\n",
              "    <tr>\n",
              "      <th>3</th>\n",
              "      <td>20090826</td>\n",
              "      <td>A</td>\n",
              "      <td>25.32</td>\n",
              "      <td>25.6425</td>\n",
              "      <td>25.145</td>\n",
              "      <td>25.48</td>\n",
              "      <td>33334</td>\n",
              "    </tr>\n",
              "    <tr>\n",
              "      <th>4</th>\n",
              "      <td>20090827</td>\n",
              "      <td>A</td>\n",
              "      <td>25.50</td>\n",
              "      <td>25.5700</td>\n",
              "      <td>25.230</td>\n",
              "      <td>25.54</td>\n",
              "      <td>70176</td>\n",
              "    </tr>\n",
              "  </tbody>\n",
              "</table>\n",
              "</div>"
            ],
            "text/plain": [
              "       date ticker   open     high     low  close  volume\n",
              "0  20090821      A  25.60  25.6100  25.220  25.55   34758\n",
              "1  20090824      A  25.64  25.7400  25.330  25.50   22247\n",
              "2  20090825      A  25.50  25.7000  25.225  25.34   30891\n",
              "3  20090826      A  25.32  25.6425  25.145  25.48   33334\n",
              "4  20090827      A  25.50  25.5700  25.230  25.54   70176"
            ]
          },
          "execution_count": 11,
          "metadata": {},
          "output_type": "execute_result"
        }
      ],
      "source": [
        "data = pd.read_csv('sp500hst.txt', sep=',', names=['date', 'ticker', 'open', 'high', 'low', 'close', 'volume'])\n",
        "data.head()"
      ]
    },
    {
      "cell_type": "markdown",
      "metadata": {},
      "source": [
        "2. Рассчитайте среднее значение показателей для каждого из столбцов c номерами 3-6."
      ]
    },
    {
      "cell_type": "code",
      "execution_count": 14,
      "metadata": {},
      "outputs": [
        {
          "data": {
            "text/plain": [
              "high         43.102243\n",
              "low          42.054464\n",
              "close        42.601865\n",
              "volume    81395.068138\n",
              "dtype: float64"
            ]
          },
          "execution_count": 14,
          "metadata": {},
          "output_type": "execute_result"
        }
      ],
      "source": [
        "data.iloc[:, 3:7].mean()"
      ]
    },
    {
      "cell_type": "markdown",
      "metadata": {},
      "source": [
        "3. Добавьте столбец, содержащий только число месяца, к которому относится дата."
      ]
    },
    {
      "cell_type": "code",
      "execution_count": 20,
      "metadata": {},
      "outputs": [
        {
          "data": {
            "text/html": [
              "<div>\n",
              "<style scoped>\n",
              "    .dataframe tbody tr th:only-of-type {\n",
              "        vertical-align: middle;\n",
              "    }\n",
              "\n",
              "    .dataframe tbody tr th {\n",
              "        vertical-align: top;\n",
              "    }\n",
              "\n",
              "    .dataframe thead th {\n",
              "        text-align: right;\n",
              "    }\n",
              "</style>\n",
              "<table border=\"1\" class=\"dataframe\">\n",
              "  <thead>\n",
              "    <tr style=\"text-align: right;\">\n",
              "      <th></th>\n",
              "      <th>date</th>\n",
              "      <th>ticker</th>\n",
              "      <th>open</th>\n",
              "      <th>high</th>\n",
              "      <th>low</th>\n",
              "      <th>close</th>\n",
              "      <th>volume</th>\n",
              "      <th>month</th>\n",
              "    </tr>\n",
              "  </thead>\n",
              "  <tbody>\n",
              "    <tr>\n",
              "      <th>0</th>\n",
              "      <td>20090821</td>\n",
              "      <td>A</td>\n",
              "      <td>25.60</td>\n",
              "      <td>25.6100</td>\n",
              "      <td>25.220</td>\n",
              "      <td>25.55</td>\n",
              "      <td>34758</td>\n",
              "      <td>08</td>\n",
              "    </tr>\n",
              "    <tr>\n",
              "      <th>1</th>\n",
              "      <td>20090824</td>\n",
              "      <td>A</td>\n",
              "      <td>25.64</td>\n",
              "      <td>25.7400</td>\n",
              "      <td>25.330</td>\n",
              "      <td>25.50</td>\n",
              "      <td>22247</td>\n",
              "      <td>08</td>\n",
              "    </tr>\n",
              "    <tr>\n",
              "      <th>2</th>\n",
              "      <td>20090825</td>\n",
              "      <td>A</td>\n",
              "      <td>25.50</td>\n",
              "      <td>25.7000</td>\n",
              "      <td>25.225</td>\n",
              "      <td>25.34</td>\n",
              "      <td>30891</td>\n",
              "      <td>08</td>\n",
              "    </tr>\n",
              "    <tr>\n",
              "      <th>3</th>\n",
              "      <td>20090826</td>\n",
              "      <td>A</td>\n",
              "      <td>25.32</td>\n",
              "      <td>25.6425</td>\n",
              "      <td>25.145</td>\n",
              "      <td>25.48</td>\n",
              "      <td>33334</td>\n",
              "      <td>08</td>\n",
              "    </tr>\n",
              "    <tr>\n",
              "      <th>4</th>\n",
              "      <td>20090827</td>\n",
              "      <td>A</td>\n",
              "      <td>25.50</td>\n",
              "      <td>25.5700</td>\n",
              "      <td>25.230</td>\n",
              "      <td>25.54</td>\n",
              "      <td>70176</td>\n",
              "      <td>08</td>\n",
              "    </tr>\n",
              "  </tbody>\n",
              "</table>\n",
              "</div>"
            ],
            "text/plain": [
              "       date ticker   open     high     low  close  volume month\n",
              "0  20090821      A  25.60  25.6100  25.220  25.55   34758    08\n",
              "1  20090824      A  25.64  25.7400  25.330  25.50   22247    08\n",
              "2  20090825      A  25.50  25.7000  25.225  25.34   30891    08\n",
              "3  20090826      A  25.32  25.6425  25.145  25.48   33334    08\n",
              "4  20090827      A  25.50  25.5700  25.230  25.54   70176    08"
            ]
          },
          "execution_count": 20,
          "metadata": {},
          "output_type": "execute_result"
        }
      ],
      "source": [
        "data['month'] = data['date'].apply(lambda x: str(x)[4:6])\n",
        "data.head()"
      ]
    },
    {
      "cell_type": "markdown",
      "metadata": {},
      "source": [
        "4. Рассчитайте суммарный объем торгов для для одинаковых значений тикеров."
      ]
    },
    {
      "cell_type": "code",
      "execution_count": 22,
      "metadata": {},
      "outputs": [
        {
          "data": {
            "text/plain": [
              "ticker\n",
              "A        8609336\n",
              "AA      81898998\n",
              "AAPL    52261170\n",
              "ABC      9006756\n",
              "ABT     18975870\n",
              "          ...   \n",
              "XTO     21297931\n",
              "YHOO    56837171\n",
              "YUM     10971538\n",
              "ZION    15551119\n",
              "ZMH      4938916\n",
              "Name: volume, Length: 524, dtype: int64"
            ]
          },
          "execution_count": 22,
          "metadata": {},
          "output_type": "execute_result"
        }
      ],
      "source": [
        "data.groupby('ticker')['volume'].sum()"
      ]
    },
    {
      "cell_type": "markdown",
      "metadata": {},
      "source": [
        "5. Загрузите данные из файла sp500hst.txt и обозначьте столбцы в соответствии с содержимым: \"date\", \"ticker\", \"open\", \"high\", \"low\", \"close\", \"volume\". Добавьте столбец с расшифровкой названия тикера, используя данные из файла `sp_data2.csv` . В случае нехватки данных об именах тикеров корректно обработать их."
      ]
    },
    {
      "cell_type": "code",
      "execution_count": 32,
      "metadata": {},
      "outputs": [],
      "source": [
        "data2 = pd.read_csv('sp500hst.txt', sep=',', names=['date', 'ticker', 'open', 'high', 'low', 'close', 'volume'])\n",
        "data3 = pd.read_csv('sp_data2.csv', sep=';', names=['reduction', 'full', 'percent'])\n",
        "data2['full_ticker'] = data2['ticker'].apply(lambda x: data3[data3['reduction'] == x]['full'].values[0] if x in data3['reduction'].values else 'unknown')"
      ]
    },
    {
      "cell_type": "code",
      "execution_count": 33,
      "metadata": {},
      "outputs": [
        {
          "data": {
            "text/html": [
              "<div>\n",
              "<style scoped>\n",
              "    .dataframe tbody tr th:only-of-type {\n",
              "        vertical-align: middle;\n",
              "    }\n",
              "\n",
              "    .dataframe tbody tr th {\n",
              "        vertical-align: top;\n",
              "    }\n",
              "\n",
              "    .dataframe thead th {\n",
              "        text-align: right;\n",
              "    }\n",
              "</style>\n",
              "<table border=\"1\" class=\"dataframe\">\n",
              "  <thead>\n",
              "    <tr style=\"text-align: right;\">\n",
              "      <th></th>\n",
              "      <th>date</th>\n",
              "      <th>ticker</th>\n",
              "      <th>open</th>\n",
              "      <th>high</th>\n",
              "      <th>low</th>\n",
              "      <th>close</th>\n",
              "      <th>volume</th>\n",
              "      <th>full_ticker</th>\n",
              "    </tr>\n",
              "  </thead>\n",
              "  <tbody>\n",
              "    <tr>\n",
              "      <th>0</th>\n",
              "      <td>20090821</td>\n",
              "      <td>A</td>\n",
              "      <td>25.60</td>\n",
              "      <td>25.6100</td>\n",
              "      <td>25.220</td>\n",
              "      <td>25.55</td>\n",
              "      <td>34758</td>\n",
              "      <td>Agilent Technologies</td>\n",
              "    </tr>\n",
              "    <tr>\n",
              "      <th>1</th>\n",
              "      <td>20090824</td>\n",
              "      <td>A</td>\n",
              "      <td>25.64</td>\n",
              "      <td>25.7400</td>\n",
              "      <td>25.330</td>\n",
              "      <td>25.50</td>\n",
              "      <td>22247</td>\n",
              "      <td>Agilent Technologies</td>\n",
              "    </tr>\n",
              "    <tr>\n",
              "      <th>2</th>\n",
              "      <td>20090825</td>\n",
              "      <td>A</td>\n",
              "      <td>25.50</td>\n",
              "      <td>25.7000</td>\n",
              "      <td>25.225</td>\n",
              "      <td>25.34</td>\n",
              "      <td>30891</td>\n",
              "      <td>Agilent Technologies</td>\n",
              "    </tr>\n",
              "    <tr>\n",
              "      <th>3</th>\n",
              "      <td>20090826</td>\n",
              "      <td>A</td>\n",
              "      <td>25.32</td>\n",
              "      <td>25.6425</td>\n",
              "      <td>25.145</td>\n",
              "      <td>25.48</td>\n",
              "      <td>33334</td>\n",
              "      <td>Agilent Technologies</td>\n",
              "    </tr>\n",
              "    <tr>\n",
              "      <th>4</th>\n",
              "      <td>20090827</td>\n",
              "      <td>A</td>\n",
              "      <td>25.50</td>\n",
              "      <td>25.5700</td>\n",
              "      <td>25.230</td>\n",
              "      <td>25.54</td>\n",
              "      <td>70176</td>\n",
              "      <td>Agilent Technologies</td>\n",
              "    </tr>\n",
              "    <tr>\n",
              "      <th>...</th>\n",
              "      <td>...</td>\n",
              "      <td>...</td>\n",
              "      <td>...</td>\n",
              "      <td>...</td>\n",
              "      <td>...</td>\n",
              "      <td>...</td>\n",
              "      <td>...</td>\n",
              "      <td>...</td>\n",
              "    </tr>\n",
              "    <tr>\n",
              "      <th>122569</th>\n",
              "      <td>20100813</td>\n",
              "      <td>ZMH</td>\n",
              "      <td>51.72</td>\n",
              "      <td>51.9000</td>\n",
              "      <td>51.380</td>\n",
              "      <td>51.44</td>\n",
              "      <td>14561</td>\n",
              "      <td>unknown</td>\n",
              "    </tr>\n",
              "    <tr>\n",
              "      <th>122570</th>\n",
              "      <td>20100816</td>\n",
              "      <td>ZMH</td>\n",
              "      <td>51.13</td>\n",
              "      <td>51.4700</td>\n",
              "      <td>50.600</td>\n",
              "      <td>51.00</td>\n",
              "      <td>13489</td>\n",
              "      <td>unknown</td>\n",
              "    </tr>\n",
              "    <tr>\n",
              "      <th>122571</th>\n",
              "      <td>20100817</td>\n",
              "      <td>ZMH</td>\n",
              "      <td>51.14</td>\n",
              "      <td>51.6000</td>\n",
              "      <td>50.890</td>\n",
              "      <td>51.21</td>\n",
              "      <td>20498</td>\n",
              "      <td>unknown</td>\n",
              "    </tr>\n",
              "    <tr>\n",
              "      <th>122572</th>\n",
              "      <td>20100819</td>\n",
              "      <td>ZMH</td>\n",
              "      <td>51.63</td>\n",
              "      <td>51.6300</td>\n",
              "      <td>50.170</td>\n",
              "      <td>50.22</td>\n",
              "      <td>18259</td>\n",
              "      <td>unknown</td>\n",
              "    </tr>\n",
              "    <tr>\n",
              "      <th>122573</th>\n",
              "      <td>20100820</td>\n",
              "      <td>ZMH</td>\n",
              "      <td>50.03</td>\n",
              "      <td>50.5500</td>\n",
              "      <td>49.480</td>\n",
              "      <td>49.82</td>\n",
              "      <td>17792</td>\n",
              "      <td>unknown</td>\n",
              "    </tr>\n",
              "  </tbody>\n",
              "</table>\n",
              "<p>122574 rows × 8 columns</p>\n",
              "</div>"
            ],
            "text/plain": [
              "            date ticker   open     high     low  close  volume  \\\n",
              "0       20090821      A  25.60  25.6100  25.220  25.55   34758   \n",
              "1       20090824      A  25.64  25.7400  25.330  25.50   22247   \n",
              "2       20090825      A  25.50  25.7000  25.225  25.34   30891   \n",
              "3       20090826      A  25.32  25.6425  25.145  25.48   33334   \n",
              "4       20090827      A  25.50  25.5700  25.230  25.54   70176   \n",
              "...          ...    ...    ...      ...     ...    ...     ...   \n",
              "122569  20100813    ZMH  51.72  51.9000  51.380  51.44   14561   \n",
              "122570  20100816    ZMH  51.13  51.4700  50.600  51.00   13489   \n",
              "122571  20100817    ZMH  51.14  51.6000  50.890  51.21   20498   \n",
              "122572  20100819    ZMH  51.63  51.6300  50.170  50.22   18259   \n",
              "122573  20100820    ZMH  50.03  50.5500  49.480  49.82   17792   \n",
              "\n",
              "                 full_ticker  \n",
              "0       Agilent Technologies  \n",
              "1       Agilent Technologies  \n",
              "2       Agilent Technologies  \n",
              "3       Agilent Technologies  \n",
              "4       Agilent Technologies  \n",
              "...                      ...  \n",
              "122569               unknown  \n",
              "122570               unknown  \n",
              "122571               unknown  \n",
              "122572               unknown  \n",
              "122573               unknown  \n",
              "\n",
              "[122574 rows x 8 columns]"
            ]
          },
          "execution_count": 33,
          "metadata": {},
          "output_type": "execute_result"
        }
      ],
      "source": [
        "data2"
      ]
    },
    {
      "cell_type": "code",
      "execution_count": null,
      "metadata": {},
      "outputs": [],
      "source": []
    }
  ],
  "metadata": {
    "colab": {
      "collapsed_sections": [],
      "provenance": []
    },
    "kernelspec": {
      "display_name": "Python 3.9.6 64-bit",
      "language": "python",
      "name": "python3"
    },
    "language_info": {
      "codemirror_mode": {
        "name": "ipython",
        "version": 3
      },
      "file_extension": ".py",
      "mimetype": "text/x-python",
      "name": "python",
      "nbconvert_exporter": "python",
      "pygments_lexer": "ipython3",
      "version": "3.9.6"
    },
    "vscode": {
      "interpreter": {
        "hash": "173ae74ecd759d33659dc89cc0ace91dba90ddaa088b7a848a7f37d845ddcc5d"
      }
    }
  },
  "nbformat": 4,
  "nbformat_minor": 0
}
